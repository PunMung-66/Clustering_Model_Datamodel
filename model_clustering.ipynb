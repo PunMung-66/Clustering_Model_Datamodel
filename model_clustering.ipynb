{
 "cells": [
  {
   "cell_type": "code",
   "execution_count": null,
   "id": "5b0b05b5",
   "metadata": {},
   "outputs": [],
   "source": [
    "import pandas as pd\n",
    "df_cleaned_drop_IF = pd.read_csv('/content/drive/MyDrive/Colab Notebooks/Data/cleaned_drop_IF.csv')\n",
    "df_cleaned_drop_IQR = pd.read_csv('/content/drive/MyDrive/Colab Notebooks/Data/cleaned_drop_IQR.csv')\n",
    "df_cleaned_mean_IF = pd.read_csv('/content/drive/MyDrive/Colab Notebooks/Data/cleaned_mean_IF.csv')\n",
    "df_cleaned_mean_IQR = pd.read_csv('/content/drive/MyDrive/Colab Notebooks/Data/cleaned_mean_IQR.csv')\n",
    "df_cleaned_median_IF = pd.read_csv('/content/drive/MyDrive/Colab Notebooks/Data/cleaned_median_IF.csv')\n",
    "df_cleaned_median_IQR = pd.read_csv('/content/drive/MyDrive/Colab Notebooks/Data/cleaned_median_IQR.csv')"
   ]
  }
 ],
 "metadata": {
  "kernelspec": {
   "display_name": "base",
   "language": "python",
   "name": "python3"
  },
  "language_info": {
   "name": "python",
   "version": "3.12.7"
  }
 },
 "nbformat": 4,
 "nbformat_minor": 5
}
