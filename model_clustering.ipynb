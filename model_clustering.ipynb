{
 "cells": [
  {
   "cell_type": "code",
   "execution_count": 3,
   "id": "5b0b05b5",
   "metadata": {},
   "outputs": [],
   "source": [
    "import pandas as pd\n",
    "df_cleaned_drop_IF = pd.read_csv('./Data/cleaned_drop_IF.csv')\n",
    "df_cleaned_drop_IQR = pd.read_csv('./Data/cleaned_drop_IQR.csv')\n",
    "df_cleaned_mean_IF = pd.read_csv('./Data/cleaned_mean_IF.csv')\n",
    "df_cleaned_mean_IQR = pd.read_csv('./Data/cleaned_mean_IQR.csv')\n",
    "df_cleaned_median_IF = pd.read_csv('./Data/cleaned_median_IF.csv')\n",
    "df_cleaned_median_IQR = pd.read_csv('./Data/cleaned_median_IQR.csv')"
   ]
  },
  {
   "cell_type": "code",
   "execution_count": null,
   "id": "1a4f9383",
   "metadata": {},
   "outputs": [],
   "source": []
  }
 ],
 "metadata": {
  "kernelspec": {
   "display_name": "base",
   "language": "python",
   "name": "python3"
  },
  "language_info": {
   "codemirror_mode": {
    "name": "ipython",
    "version": 3
   },
   "file_extension": ".py",
   "mimetype": "text/x-python",
   "name": "python",
   "nbconvert_exporter": "python",
   "pygments_lexer": "ipython3",
   "version": "3.12.7"
  }
 },
 "nbformat": 4,
 "nbformat_minor": 5
}
